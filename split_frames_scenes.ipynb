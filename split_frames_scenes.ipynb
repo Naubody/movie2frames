{
 "cells": [
  {
   "cell_type": "markdown",
   "metadata": {},
   "source": [
    "## **Extract frames from video file**\n",
    "This code extracts frames (.jpg) from movie files (.mp4) at a defined framerate.<br>\n",
    "It assumes that each video file is stored in separate subdirectory, and it visualizes a random frame at the end.<br>\n",
    "It assumes following folder structure: root/Scene1/.mp4, root/Scene2/.mp4 etc.<br>\n",
    "\n"
   ]
  },
  {
   "cell_type": "markdown",
   "metadata": {},
   "source": [
    "## Import libraries and define settings"
   ]
  },
  {
   "cell_type": "code",
   "execution_count": null,
   "metadata": {},
   "outputs": [],
   "source": [
    "# import libraries \n",
    "import cv2\n",
    "import os.path as op\n",
    "import glob\n",
    "import math\n",
    "import matplotlib.pyplot as plt\n",
    "import random\n",
    "\n",
    "\n",
    "# path to data\n",
    "path2data = glob.glob('/System/Volumes/Data/misc/data61/code_review/' + 'Scene*') \n",
    "\n",
    "print('Hello World!')\n",
    "\n",
    "# desired frame rate for exporting\n",
    "new_frame_rate = 5"
   ]
  },
  {
   "cell_type": "markdown",
   "metadata": {},
   "source": [
    "## Loop over movie files and extract frames"
   ]
  },
  {
   "cell_type": "code",
   "execution_count": null,
   "metadata": {},
   "outputs": [],
   "source": [
    "# loop over folders in root directory\n",
    "for f in path2data:\n",
    "\n",
    "    # find movie file inside folder\n",
    "    cFile = glob.glob(f + '/*.mp4')\n",
    "    print('Working on file: {}'.format(cFile))\n",
    "\n",
    "    # load video & check frame rate\n",
    "    vidcap = cv2.VideoCapture(cFile[0])\n",
    "    success,image = vidcap.read()\n",
    "    fps = vidcap.get(cv2.CAP_PROP_FPS)\n",
    "    fr_add = fps/new_frame_rate\n",
    "\n",
    "    # print some video diagnostics\n",
    "    print(' - input frame rate: {}, export frame rate: {}'.format(round(fps, 2), new_frame_rate))\n",
    "    print(' - input frame count: {}, export frame count {}'.format(round(vidcap.get(cv2.CAP_PROP_FRAME_COUNT)), math.ceil(vidcap.get(cv2.CAP_PROP_FRAME_COUNT)/fr_add)))\n",
    "\n",
    "    # extract frames\n",
    "    count = 1\n",
    "    while success:\n",
    "        vidcap.set(cv2.CAP_PROP_POS_FRAMES,(count))\n",
    "        export_file_name = f + '/frame_' + str(round(count)) + '.jpg'\n",
    "        cv2.imwrite(export_file_name, image)\n",
    "        success,image = vidcap.read()\n",
    "        count += fr_add\n",
    "\n",
    "    # sanity check: how many frames were written?\n",
    "    written_files = glob.glob(op.join(f, '*.jpg'))\n",
    "    print(' - n files written: {}'.format(len(written_files)))\n",
    "print('Done!')"
   ]
  },
  {
   "cell_type": "markdown",
   "metadata": {},
   "source": [
    "## Visualization"
   ]
  },
  {
   "cell_type": "code",
   "execution_count": null,
   "metadata": {},
   "outputs": [],
   "source": [
    "# Find files \n",
    "images = glob.glob(path2data[0] + '/*.jpg')\n",
    "n_images = len(images)\n",
    "random_number = random.randrange(n_images)\n",
    "\n",
    "# open figure\n",
    "fig = plt.figure(figsize=(12.5,7))\n",
    "fig.patch.set_facecolor('xkcd:white')\n",
    "\n",
    "# plot a frame\n",
    "im = plt.imshow(plt.imread(images[random_number]), alpha=1, aspect='auto')\n",
    "h = plt.gca()\n",
    "h.axes.get_xaxis().set_ticks([])\n",
    "h.axes.get_yaxis().set_ticks([])\n",
    "h.set_title('random frame', color='black', fontweight=\"bold\")"
   ]
  },
  {
   "cell_type": "code",
   "execution_count": null,
   "metadata": {},
   "outputs": [],
   "source": []
  }
 ],
 "metadata": {
  "interpreter": {
   "hash": "5a75cf8d77803a3f6007b5235f3728b02b0be60187c0e445555102b8493d0216"
  },
  "kernelspec": {
   "display_name": "Python 3.8.8 64-bit ('base': conda)",
   "name": "python3"
  },
  "language_info": {
   "codemirror_mode": {
    "name": "ipython",
    "version": 3
   },
   "file_extension": ".py",
   "mimetype": "text/x-python",
   "name": "python",
   "nbconvert_exporter": "python",
   "pygments_lexer": "ipython3",
   "version": "3.8.5"
  },
  "orig_nbformat": 4
 },
 "nbformat": 4,
 "nbformat_minor": 2
}
